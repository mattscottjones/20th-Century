{
 "cells": [
  {
   "cell_type": "markdown",
   "id": "e541297d-f528-4ff8-b0a6-df8f5b3b4b53",
   "metadata": {},
   "source": [
    "# 1.6 Natural Language Processing and Network Analysis"
   ]
  },
  {
   "cell_type": "markdown",
   "id": "24e9c8ef-4d77-4304-8e2d-9ff3984ccb82",
   "metadata": {
    "tags": []
   },
   "source": [
    "## This script contains the following:\n",
    "#### [1. Import Libraries](#import-libraries)\n",
    "#### [2. Import Data](#import-data)\n",
    "#### [3. Create Named Entity Recognition Object](#ner)\n",
    "#### [4. Splitting the Sentence Entities](#splitting-sentences)\n",
    "#### [5. Filter the Entities Using the Country List](#filter-entities)\n",
    "#### [6. Create a Relationship Dataframe](#relationship-dataframe)\n",
    "#### [7. Export the Data](#export-data)"
   ]
  },
  {
   "cell_type": "markdown",
   "id": "736f7aed-5647-4931-90d6-ccc147e1ff66",
   "metadata": {},
   "source": [
    "### 1. Import Libraries<a class=\"anchor\" id=\"import-libraries\"></a>"
   ]
  },
  {
   "cell_type": "code",
   "execution_count": 5,
   "id": "e5acdaba-4f02-40c9-91f9-fe27121bcc9d",
   "metadata": {
    "tags": []
   },
   "outputs": [],
   "source": [
    "import pandas as pd\n",
    "import numpy as np\n",
    "import spacy\n",
    "from spacy import displacy\n",
    "import networkx as nx\n",
    "import os\n",
    "import matplotlib.pyplot as plt\n",
    "import scipy\n",
    "import re"
   ]
  },
  {
   "cell_type": "code",
   "execution_count": 6,
   "id": "eac0930a-7289-47bb-a1fb-eacf0452ac34",
   "metadata": {
    "tags": []
   },
   "outputs": [],
   "source": [
    "%%capture\n",
    "# Download English module\n",
    "!python -m spacy download en_core_web_sm"
   ]
  },
  {
   "cell_type": "code",
   "execution_count": 7,
   "id": "d807ce12-862e-4976-ba6b-d825527dd07c",
   "metadata": {
    "tags": []
   },
   "outputs": [],
   "source": [
    "# Load spacy English module\n",
    "NER = spacy.load(\"en_core_web_sm\")"
   ]
  },
  {
   "cell_type": "markdown",
   "id": "3547881d-74ae-4ec8-9bf4-9e54e9bd1bb9",
   "metadata": {},
   "source": [
    "### 2. Import Data<a class=\"anchor\" id=\"import-data\"></a>"
   ]
  },
  {
   "cell_type": "code",
   "execution_count": 9,
   "id": "275c88a9-6529-4ab9-b251-12d926730281",
   "metadata": {
    "tags": []
   },
   "outputs": [],
   "source": [
    "# Load the article\n",
    "path = os.path.join(os.path.dirname('/Users/matthewjones/Documents/CareerFoundry/Data Visualization with Python/Achievement 1/20th-Century/02. Data/'), '20th Century Events_sans_punc.txt')\n",
    "    \n",
    "with open(path, 'r', errors='ignore') as file:\n",
    "    data = file.read().replace('\\n', '')"
   ]
  },
  {
   "cell_type": "code",
   "execution_count": 10,
   "id": "7e2e8506-0991-406a-8014-80b3c12a6420",
   "metadata": {
    "tags": []
   },
   "outputs": [],
   "source": [
    "# Import the list of countries as a dataframe\n",
    "path2 = r'/Users/matthewjones/Documents/CareerFoundry/Data Visualization with Python/Achievement 1/20th-Century/02. Data'\n",
    "\n",
    "countries = pd.read_csv(os.path.join(path2, 'cleaned_countries_list.csv'), index_col = 0)"
   ]
  },
  {
   "cell_type": "code",
   "execution_count": 11,
   "id": "664b1e94-9897-45cf-9266-c17b7e6358c7",
   "metadata": {
    "tags": []
   },
   "outputs": [
    {
     "data": {
      "text/html": [
       "<div>\n",
       "<style scoped>\n",
       "    .dataframe tbody tr th:only-of-type {\n",
       "        vertical-align: middle;\n",
       "    }\n",
       "\n",
       "    .dataframe tbody tr th {\n",
       "        vertical-align: top;\n",
       "    }\n",
       "\n",
       "    .dataframe thead th {\n",
       "        text-align: right;\n",
       "    }\n",
       "</style>\n",
       "<table border=\"1\" class=\"dataframe\">\n",
       "  <thead>\n",
       "    <tr style=\"text-align: right;\">\n",
       "      <th></th>\n",
       "      <th>country_name</th>\n",
       "      <th>country_alias</th>\n",
       "      <th>clean_country_alias</th>\n",
       "    </tr>\n",
       "  </thead>\n",
       "  <tbody>\n",
       "    <tr>\n",
       "      <th>0</th>\n",
       "      <td>Afghanistan</td>\n",
       "      <td>Afghanistan</td>\n",
       "      <td>Afghanistan</td>\n",
       "    </tr>\n",
       "    <tr>\n",
       "      <th>1</th>\n",
       "      <td>Albania</td>\n",
       "      <td>Albania</td>\n",
       "      <td>Albania</td>\n",
       "    </tr>\n",
       "    <tr>\n",
       "      <th>2</th>\n",
       "      <td>Algeria</td>\n",
       "      <td>Algeria</td>\n",
       "      <td>Algeria</td>\n",
       "    </tr>\n",
       "    <tr>\n",
       "      <th>3</th>\n",
       "      <td>Andorra</td>\n",
       "      <td>Andorra</td>\n",
       "      <td>Andorra</td>\n",
       "    </tr>\n",
       "    <tr>\n",
       "      <th>4</th>\n",
       "      <td>Angola</td>\n",
       "      <td>Angola</td>\n",
       "      <td>Angola</td>\n",
       "    </tr>\n",
       "  </tbody>\n",
       "</table>\n",
       "</div>"
      ],
      "text/plain": [
       "    country_name  country_alias clean_country_alias\n",
       "0   Afghanistan    Afghanistan          Afghanistan\n",
       "1       Albania        Albania              Albania\n",
       "2       Algeria        Algeria              Algeria\n",
       "3       Andorra        Andorra              Andorra\n",
       "4        Angola         Angola               Angola"
      ]
     },
     "execution_count": 11,
     "metadata": {},
     "output_type": "execute_result"
    }
   ],
   "source": [
    "# Check the output\n",
    "countries.head()"
   ]
  },
  {
   "cell_type": "code",
   "execution_count": 12,
   "id": "8431a826-060b-405b-be7e-7a504dfec3e5",
   "metadata": {
    "tags": []
   },
   "outputs": [
    {
     "data": {
      "text/plain": [
       "(214, 3)"
      ]
     },
     "execution_count": 12,
     "metadata": {},
     "output_type": "execute_result"
    }
   ],
   "source": [
    "countries.shape"
   ]
  },
  {
   "cell_type": "markdown",
   "id": "4c9ed00b-afbe-44fb-8f30-a711f12c828c",
   "metadata": {},
   "source": [
    "#### NOTE\n",
    "    Between the text mining stage and Network Analysis stage, a separate script was made to clean the data. In that process, the names of countries in the text document to be consistent with what Spacy was registering as an entity (e.g. it did not reliably pick up 'United States', but would pick up 'the United States'). All other mentions of 'the' were removed, and so were extraneous characters (punctuation and numbers).\n",
    "    \n",
    "    This script also included cleaning the countries list. There were a few countries referenced in the article that no longer exist (so they were not on the countries list). It would have been inaccurate to assign those mentions to present-day countries, so the older countries were added. Some countries with multiple words also needed an alias to match how they were referenced in the text document (e.g. 'China, The People's Republic of' became 'China', and 'Bosnia and Herzegovina' became 'Bosnia'. And finally, the extra spaces around the country names were stripped so the names would match with the entity names.\n",
    "    \n",
    "    The additional script and cleaned data were saved and included in the project folder."
   ]
  },
  {
   "cell_type": "markdown",
   "id": "ca01715f-8835-4c59-aeb6-7c38b14fab82",
   "metadata": {},
   "source": [
    "### 3. Create Named Entity Recognition Object<a class=\"anchor\" id=\"ner\"></a>\n",
    "Using the NLP module Spacy to apply an NER algorithm"
   ]
  },
  {
   "cell_type": "code",
   "execution_count": 15,
   "id": "22e9cde0-cc47-406b-9c1d-913c7f6a0662",
   "metadata": {
    "tags": []
   },
   "outputs": [],
   "source": [
    "# Set the NER object\n",
    "article = NER(data)"
   ]
  },
  {
   "cell_type": "code",
   "execution_count": 16,
   "id": "d0338631-0e02-435d-82dc-63cac4e5c959",
   "metadata": {
    "tags": []
   },
   "outputs": [],
   "source": [
    "%%capture\n",
    "\n",
    "# Visualize identified entities\n",
    "displacy.render(article[273:20000], style = \"ent\", jupyter = True)"
   ]
  },
  {
   "cell_type": "markdown",
   "id": "041b3255-d197-49f1-9922-8f963287cffd",
   "metadata": {},
   "source": [
    "### 4. Splitting the Sentence Entities<a class=\"anchor\" id=\"splitting-sentences\"></a>\n",
    "Storing each sentence's entities as a list in a dataframe"
   ]
  },
  {
   "cell_type": "code",
   "execution_count": 18,
   "id": "03bc69a6-e9e7-4bfb-acc3-b7f9a2dfa572",
   "metadata": {
    "tags": []
   },
   "outputs": [],
   "source": [
    "# Create an empty shell to store results\n",
    "df_sentences = [] \n",
    "\n",
    "# Loop through sentences, to get entity list for each sentence\n",
    "for sent in article.sents:\n",
    "    entity_list = [ent.text for ent in sent.ents]\n",
    "    df_sentences.append({\"sentence\": sent, \"entities\": entity_list})\n",
    "    \n",
    "# Convert the list into a dataframe\n",
    "df_sentences = pd.DataFrame(df_sentences)"
   ]
  },
  {
   "cell_type": "code",
   "execution_count": 19,
   "id": "5ad7298f-1160-4ebd-870d-ae4bc236c618",
   "metadata": {
    "tags": []
   },
   "outputs": [
    {
     "data": {
      "text/html": [
       "<div>\n",
       "<style scoped>\n",
       "    .dataframe tbody tr th:only-of-type {\n",
       "        vertical-align: middle;\n",
       "    }\n",
       "\n",
       "    .dataframe tbody tr th {\n",
       "        vertical-align: top;\n",
       "    }\n",
       "\n",
       "    .dataframe thead th {\n",
       "        text-align: right;\n",
       "    }\n",
       "</style>\n",
       "<table border=\"1\" class=\"dataframe\">\n",
       "  <thead>\n",
       "    <tr style=\"text-align: right;\">\n",
       "      <th></th>\n",
       "      <th>sentence</th>\n",
       "      <th>entities</th>\n",
       "    </tr>\n",
       "  </thead>\n",
       "  <tbody>\n",
       "    <tr>\n",
       "      <th>0</th>\n",
       "      <td>(  , Key,    , events,    , of,   , th,    , c...</td>\n",
       "      <td>[Navigation    Main    pageContentsCurrent    ...</td>\n",
       "    </tr>\n",
       "    <tr>\n",
       "      <th>1</th>\n",
       "      <td>(race1.4.5The,    , end,    , of,    , Cold,  ...</td>\n",
       "      <td>[]</td>\n",
       "    </tr>\n",
       "    <tr>\n",
       "      <th>2</th>\n",
       "      <td>(informationCite,    , this,    , pageGet,    ...</td>\n",
       "      <td>[URLDownload    QR    , PDFPrintable]</td>\n",
       "    </tr>\n",
       "    <tr>\n",
       "      <th>3</th>\n",
       "      <td>(World,    , Wars,    , sparked,    , tension,...</td>\n",
       "      <td>[]</td>\n",
       "    </tr>\n",
       "    <tr>\n",
       "      <th>4</th>\n",
       "      <td>(These,    , advancements,    , have,    , pla...</td>\n",
       "      <td>[today]</td>\n",
       "    </tr>\n",
       "    <tr>\n",
       "      <th>5</th>\n",
       "      <td>(Historic,    , events,    , in,   , th,    , ...</td>\n",
       "      <td>[]</td>\n",
       "    </tr>\n",
       "    <tr>\n",
       "      <th>6</th>\n",
       "      <td>(s,    , saw,    , decade,    , herald,    , a...</td>\n",
       "      <td>[]</td>\n",
       "    </tr>\n",
       "    <tr>\n",
       "      <th>7</th>\n",
       "      <td>(From,       , to,            , First,    , Wo...</td>\n",
       "      <td>[]</td>\n",
       "    </tr>\n",
       "    <tr>\n",
       "      <th>8</th>\n",
       "      <td>(`, `,    , war,    , to,    , end,    , all, ...</td>\n",
       "      <td>[1918, Sarajevo]</td>\n",
       "    </tr>\n",
       "    <tr>\n",
       "      <th>9</th>\n",
       "      <td>(war,    , and,    , by,    , extension,    , ...</td>\n",
       "      <td>[Gavrilo    Princip    of    , Bosnian, Serbs]</td>\n",
       "    </tr>\n",
       "  </tbody>\n",
       "</table>\n",
       "</div>"
      ],
      "text/plain": [
       "                                            sentence  \\\n",
       "0  (  , Key,    , events,    , of,   , th,    , c...   \n",
       "1  (race1.4.5The,    , end,    , of,    , Cold,  ...   \n",
       "2  (informationCite,    , this,    , pageGet,    ...   \n",
       "3  (World,    , Wars,    , sparked,    , tension,...   \n",
       "4  (These,    , advancements,    , have,    , pla...   \n",
       "5  (Historic,    , events,    , in,   , th,    , ...   \n",
       "6  (s,    , saw,    , decade,    , herald,    , a...   \n",
       "7  (From,       , to,            , First,    , Wo...   \n",
       "8  (`, `,    , war,    , to,    , end,    , all, ...   \n",
       "9  (war,    , and,    , by,    , extension,    , ...   \n",
       "\n",
       "                                            entities  \n",
       "0  [Navigation    Main    pageContentsCurrent    ...  \n",
       "1                                                 []  \n",
       "2              [URLDownload    QR    , PDFPrintable]  \n",
       "3                                                 []  \n",
       "4                                            [today]  \n",
       "5                                                 []  \n",
       "6                                                 []  \n",
       "7                                                 []  \n",
       "8                                   [1918, Sarajevo]  \n",
       "9     [Gavrilo    Princip    of    , Bosnian, Serbs]  "
      ]
     },
     "execution_count": 19,
     "metadata": {},
     "output_type": "execute_result"
    }
   ],
   "source": [
    "# Check the output\n",
    "df_sentences.head(10)"
   ]
  },
  {
   "cell_type": "markdown",
   "id": "bbc8706a-b5b4-4044-8cc2-98635cda0c76",
   "metadata": {},
   "source": [
    "### 5. Filter the Entities Using the Country List<a class=\"anchor\" id=\"filter-entities\"></a>\n",
    "Identifying only the entities that match the countries we are analyzing"
   ]
  },
  {
   "cell_type": "code",
   "execution_count": 21,
   "id": "86ed961c-e60c-42c2-87ee-a9389f318763",
   "metadata": {},
   "outputs": [],
   "source": [
    "# Write a function to filter out entities not on the cleaned countries list\n",
    "def filter_entity(ent_list, countries):\n",
    "    return [ent for ent in ent_list \n",
    "            if ent in list(countries['clean_country_alias'])]"
   ]
  },
  {
   "cell_type": "code",
   "execution_count": 22,
   "id": "8f8365bb-df04-44b9-81f3-4f14f9d0fee9",
   "metadata": {
    "tags": []
   },
   "outputs": [],
   "source": [
    "# Apply the function and store the results in a new column\n",
    "df_sentences['country_entities'] = df_sentences['entities'].apply(lambda x: filter_entity(x, countries))"
   ]
  },
  {
   "cell_type": "code",
   "execution_count": 23,
   "id": "00894a59-eeaf-4aa5-b0d3-d4a08a2bdbab",
   "metadata": {
    "tags": []
   },
   "outputs": [
    {
     "data": {
      "text/html": [
       "<div>\n",
       "<style scoped>\n",
       "    .dataframe tbody tr th:only-of-type {\n",
       "        vertical-align: middle;\n",
       "    }\n",
       "\n",
       "    .dataframe tbody tr th {\n",
       "        vertical-align: top;\n",
       "    }\n",
       "\n",
       "    .dataframe thead th {\n",
       "        text-align: right;\n",
       "    }\n",
       "</style>\n",
       "<table border=\"1\" class=\"dataframe\">\n",
       "  <thead>\n",
       "    <tr style=\"text-align: right;\">\n",
       "      <th></th>\n",
       "      <th>sentence</th>\n",
       "      <th>entities</th>\n",
       "      <th>country_entities</th>\n",
       "    </tr>\n",
       "  </thead>\n",
       "  <tbody>\n",
       "    <tr>\n",
       "      <th>0</th>\n",
       "      <td>(  , Key,    , events,    , of,   , th,    , c...</td>\n",
       "      <td>[Navigation    Main    pageContentsCurrent    ...</td>\n",
       "      <td>[]</td>\n",
       "    </tr>\n",
       "    <tr>\n",
       "      <th>1</th>\n",
       "      <td>(race1.4.5The,    , end,    , of,    , Cold,  ...</td>\n",
       "      <td>[]</td>\n",
       "      <td>[]</td>\n",
       "    </tr>\n",
       "    <tr>\n",
       "      <th>2</th>\n",
       "      <td>(informationCite,    , this,    , pageGet,    ...</td>\n",
       "      <td>[URLDownload    QR    , PDFPrintable]</td>\n",
       "      <td>[]</td>\n",
       "    </tr>\n",
       "    <tr>\n",
       "      <th>3</th>\n",
       "      <td>(World,    , Wars,    , sparked,    , tension,...</td>\n",
       "      <td>[]</td>\n",
       "      <td>[]</td>\n",
       "    </tr>\n",
       "    <tr>\n",
       "      <th>4</th>\n",
       "      <td>(These,    , advancements,    , have,    , pla...</td>\n",
       "      <td>[today]</td>\n",
       "      <td>[]</td>\n",
       "    </tr>\n",
       "    <tr>\n",
       "      <th>5</th>\n",
       "      <td>(Historic,    , events,    , in,   , th,    , ...</td>\n",
       "      <td>[]</td>\n",
       "      <td>[]</td>\n",
       "    </tr>\n",
       "    <tr>\n",
       "      <th>6</th>\n",
       "      <td>(s,    , saw,    , decade,    , herald,    , a...</td>\n",
       "      <td>[]</td>\n",
       "      <td>[]</td>\n",
       "    </tr>\n",
       "    <tr>\n",
       "      <th>7</th>\n",
       "      <td>(From,       , to,            , First,    , Wo...</td>\n",
       "      <td>[]</td>\n",
       "      <td>[]</td>\n",
       "    </tr>\n",
       "    <tr>\n",
       "      <th>8</th>\n",
       "      <td>(`, `,    , war,    , to,    , end,    , all, ...</td>\n",
       "      <td>[1918, Sarajevo]</td>\n",
       "      <td>[]</td>\n",
       "    </tr>\n",
       "    <tr>\n",
       "      <th>9</th>\n",
       "      <td>(war,    , and,    , by,    , extension,    , ...</td>\n",
       "      <td>[Gavrilo    Princip    of    , Bosnian, Serbs]</td>\n",
       "      <td>[]</td>\n",
       "    </tr>\n",
       "  </tbody>\n",
       "</table>\n",
       "</div>"
      ],
      "text/plain": [
       "                                            sentence  \\\n",
       "0  (  , Key,    , events,    , of,   , th,    , c...   \n",
       "1  (race1.4.5The,    , end,    , of,    , Cold,  ...   \n",
       "2  (informationCite,    , this,    , pageGet,    ...   \n",
       "3  (World,    , Wars,    , sparked,    , tension,...   \n",
       "4  (These,    , advancements,    , have,    , pla...   \n",
       "5  (Historic,    , events,    , in,   , th,    , ...   \n",
       "6  (s,    , saw,    , decade,    , herald,    , a...   \n",
       "7  (From,       , to,            , First,    , Wo...   \n",
       "8  (`, `,    , war,    , to,    , end,    , all, ...   \n",
       "9  (war,    , and,    , by,    , extension,    , ...   \n",
       "\n",
       "                                            entities country_entities  \n",
       "0  [Navigation    Main    pageContentsCurrent    ...               []  \n",
       "1                                                 []               []  \n",
       "2              [URLDownload    QR    , PDFPrintable]               []  \n",
       "3                                                 []               []  \n",
       "4                                            [today]               []  \n",
       "5                                                 []               []  \n",
       "6                                                 []               []  \n",
       "7                                                 []               []  \n",
       "8                                   [1918, Sarajevo]               []  \n",
       "9     [Gavrilo    Princip    of    , Bosnian, Serbs]               []  "
      ]
     },
     "execution_count": 23,
     "metadata": {},
     "output_type": "execute_result"
    }
   ],
   "source": [
    "# Check the output\n",
    "df_sentences.head(10)"
   ]
  },
  {
   "cell_type": "code",
   "execution_count": 24,
   "id": "3b6cc3cf-1865-4af2-aa0b-1e657b45cd4f",
   "metadata": {
    "tags": []
   },
   "outputs": [
    {
     "data": {
      "text/html": [
       "<div>\n",
       "<style scoped>\n",
       "    .dataframe tbody tr th:only-of-type {\n",
       "        vertical-align: middle;\n",
       "    }\n",
       "\n",
       "    .dataframe tbody tr th {\n",
       "        vertical-align: top;\n",
       "    }\n",
       "\n",
       "    .dataframe thead th {\n",
       "        text-align: right;\n",
       "    }\n",
       "</style>\n",
       "<table border=\"1\" class=\"dataframe\">\n",
       "  <thead>\n",
       "    <tr style=\"text-align: right;\">\n",
       "      <th></th>\n",
       "      <th>sentence</th>\n",
       "      <th>entities</th>\n",
       "      <th>country_entities</th>\n",
       "    </tr>\n",
       "  </thead>\n",
       "  <tbody>\n",
       "    <tr>\n",
       "      <th>13</th>\n",
       "      <td>(Allies,         , known,    , initially,    ,...</td>\n",
       "      <td>[British, Russia]</td>\n",
       "      <td>[Russia]</td>\n",
       "    </tr>\n",
       "    <tr>\n",
       "      <th>14</th>\n",
       "      <td>(Germany,         , Austria, -, Hungary,      ...</td>\n",
       "      <td>[Germany, Austria]</td>\n",
       "      <td>[Germany, Austria]</td>\n",
       "    </tr>\n",
       "    <tr>\n",
       "      <th>15</th>\n",
       "      <td>(In,            , Russia,    , ended,    , hos...</td>\n",
       "      <td>[Russia]</td>\n",
       "      <td>[Russia]</td>\n",
       "    </tr>\n",
       "    <tr>\n",
       "      <th>16</th>\n",
       "      <td>(Bolsheviks,    , negotiated,    , Treaty,    ...</td>\n",
       "      <td>[Russia]</td>\n",
       "      <td>[Russia]</td>\n",
       "    </tr>\n",
       "    <tr>\n",
       "      <th>17</th>\n",
       "      <td>(In,    , treaty,         , Bolshevik,    , Ru...</td>\n",
       "      <td>[Russia, Baltic]</td>\n",
       "      <td>[Russia]</td>\n",
       "    </tr>\n",
       "    <tr>\n",
       "      <th>19</th>\n",
       "      <td>(Although,    , Germany,    , shifted,    , hu...</td>\n",
       "      <td>[Germany, Allied]</td>\n",
       "      <td>[Germany]</td>\n",
       "    </tr>\n",
       "    <tr>\n",
       "      <th>25</th>\n",
       "      <td>(Unfortunately,         , since,    , trench, ...</td>\n",
       "      <td>[Austria, Hungary]</td>\n",
       "      <td>[Austria, Hungary]</td>\n",
       "    </tr>\n",
       "    <tr>\n",
       "      <th>28</th>\n",
       "      <td>(Germany,    , was,    , never,    , occupied,...</td>\n",
       "      <td>[Germany]</td>\n",
       "      <td>[Germany]</td>\n",
       "    </tr>\n",
       "    <tr>\n",
       "      <th>30</th>\n",
       "      <td>(New,    , states,    , like,    , Yugoslavia,...</td>\n",
       "      <td>[Yugoslavia, Czechoslovakia]</td>\n",
       "      <td>[Yugoslavia, Czechoslovakia]</td>\n",
       "    </tr>\n",
       "    <tr>\n",
       "      <th>52</th>\n",
       "      <td>(Germany,        , Fascism,    , first,    , a...</td>\n",
       "      <td>[Germany        Fascism    , Italy, Mussolini]</td>\n",
       "      <td>[Italy]</td>\n",
       "    </tr>\n",
       "  </tbody>\n",
       "</table>\n",
       "</div>"
      ],
      "text/plain": [
       "                                             sentence  \\\n",
       "13  (Allies,         , known,    , initially,    ,...   \n",
       "14  (Germany,         , Austria, -, Hungary,      ...   \n",
       "15  (In,            , Russia,    , ended,    , hos...   \n",
       "16  (Bolsheviks,    , negotiated,    , Treaty,    ...   \n",
       "17  (In,    , treaty,         , Bolshevik,    , Ru...   \n",
       "19  (Although,    , Germany,    , shifted,    , hu...   \n",
       "25  (Unfortunately,         , since,    , trench, ...   \n",
       "28  (Germany,    , was,    , never,    , occupied,...   \n",
       "30  (New,    , states,    , like,    , Yugoslavia,...   \n",
       "52  (Germany,        , Fascism,    , first,    , a...   \n",
       "\n",
       "                                          entities  \\\n",
       "13                               [British, Russia]   \n",
       "14                              [Germany, Austria]   \n",
       "15                                        [Russia]   \n",
       "16                                        [Russia]   \n",
       "17                                [Russia, Baltic]   \n",
       "19                               [Germany, Allied]   \n",
       "25                              [Austria, Hungary]   \n",
       "28                                       [Germany]   \n",
       "30                    [Yugoslavia, Czechoslovakia]   \n",
       "52  [Germany        Fascism    , Italy, Mussolini]   \n",
       "\n",
       "                country_entities  \n",
       "13                      [Russia]  \n",
       "14            [Germany, Austria]  \n",
       "15                      [Russia]  \n",
       "16                      [Russia]  \n",
       "17                      [Russia]  \n",
       "19                     [Germany]  \n",
       "25            [Austria, Hungary]  \n",
       "28                     [Germany]  \n",
       "30  [Yugoslavia, Czechoslovakia]  \n",
       "52                       [Italy]  "
      ]
     },
     "execution_count": 24,
     "metadata": {},
     "output_type": "execute_result"
    }
   ],
   "source": [
    "# Filter out sentences that don't have any character entities\n",
    "df_sentences_filtered = df_sentences[df_sentences['country_entities'].map(len) > 0]\n",
    "\n",
    "# Check the output\n",
    "df_sentences_filtered.head(10)"
   ]
  },
  {
   "cell_type": "markdown",
   "id": "31633c0e-4eba-4fa1-a3c3-55a1b915803e",
   "metadata": {},
   "source": [
    "### 6. Create a Relationship Dataframe<a class=\"anchor\" id=\"relationship-dataframe\"></a>\n",
    "Calculating how much each country interacts with one another in the article"
   ]
  },
  {
   "cell_type": "code",
   "execution_count": 26,
   "id": "c40b0c07-a013-4351-b0e0-e246601a346d",
   "metadata": {
    "tags": []
   },
   "outputs": [],
   "source": [
    "# Defining relationships \n",
    "\n",
    "# window size = 5 : this defines how many sentences will be looked at simultaneously \n",
    "relationships = [] # create an empty list\n",
    "\n",
    "for i in range(df_sentences_filtered.index[-1]):\n",
    "    end_i = min(i+5, df_sentences_filtered.index[-1])\n",
    "    country_list = sum((df_sentences_filtered.loc[i: end_i].country_entities), [])\n",
    "    \n",
    "    # Remove duplicated characters that are next to each other\n",
    "    country_unique = [country_list[i] for i in range(len(country_list)) \n",
    "                   if (i==0) or country_list[i] != country_list[i-1]]\n",
    "    \n",
    "    if len(country_unique) > 1:\n",
    "        for idx, a in enumerate(country_unique[:-1]):\n",
    "            b = country_unique[idx + 1]\n",
    "            relationships.append({\"source\": a, \"target\": b})"
   ]
  },
  {
   "cell_type": "code",
   "execution_count": 27,
   "id": "9aead1db-a607-49af-bb53-82e0e030db6d",
   "metadata": {
    "tags": []
   },
   "outputs": [],
   "source": [
    "# Convert the list into a dataframe\n",
    "relationship_df = pd.DataFrame(relationships)"
   ]
  },
  {
   "cell_type": "code",
   "execution_count": 28,
   "id": "9499d97a-299a-462b-ba2e-3e479d454efa",
   "metadata": {
    "tags": []
   },
   "outputs": [],
   "source": [
    "# Sort the cases with a->b and b->a\n",
    "relationship_df = pd.DataFrame(np.sort(relationship_df.values, axis = 1), columns = relationship_df.columns)"
   ]
  },
  {
   "cell_type": "code",
   "execution_count": 29,
   "id": "f33f9343-6c4e-4f5a-9352-42a10366b3b3",
   "metadata": {
    "tags": []
   },
   "outputs": [
    {
     "data": {
      "text/html": [
       "<div>\n",
       "<style scoped>\n",
       "    .dataframe tbody tr th:only-of-type {\n",
       "        vertical-align: middle;\n",
       "    }\n",
       "\n",
       "    .dataframe tbody tr th {\n",
       "        vertical-align: top;\n",
       "    }\n",
       "\n",
       "    .dataframe thead th {\n",
       "        text-align: right;\n",
       "    }\n",
       "</style>\n",
       "<table border=\"1\" class=\"dataframe\">\n",
       "  <thead>\n",
       "    <tr style=\"text-align: right;\">\n",
       "      <th></th>\n",
       "      <th>source</th>\n",
       "      <th>target</th>\n",
       "      <th>value</th>\n",
       "    </tr>\n",
       "  </thead>\n",
       "  <tbody>\n",
       "    <tr>\n",
       "      <th>0</th>\n",
       "      <td>Germany</td>\n",
       "      <td>Russia</td>\n",
       "      <td>9</td>\n",
       "    </tr>\n",
       "    <tr>\n",
       "      <th>1</th>\n",
       "      <td>Austria</td>\n",
       "      <td>Germany</td>\n",
       "      <td>10</td>\n",
       "    </tr>\n",
       "    <tr>\n",
       "      <th>2</th>\n",
       "      <td>Austria</td>\n",
       "      <td>Russia</td>\n",
       "      <td>5</td>\n",
       "    </tr>\n",
       "    <tr>\n",
       "      <th>3</th>\n",
       "      <td>Austria</td>\n",
       "      <td>Hungary</td>\n",
       "      <td>6</td>\n",
       "    </tr>\n",
       "    <tr>\n",
       "      <th>4</th>\n",
       "      <td>Germany</td>\n",
       "      <td>Hungary</td>\n",
       "      <td>9</td>\n",
       "    </tr>\n",
       "    <tr>\n",
       "      <th>5</th>\n",
       "      <td>Germany</td>\n",
       "      <td>Yugoslavia</td>\n",
       "      <td>4</td>\n",
       "    </tr>\n",
       "    <tr>\n",
       "      <th>6</th>\n",
       "      <td>Czechoslovakia</td>\n",
       "      <td>Yugoslavia</td>\n",
       "      <td>12</td>\n",
       "    </tr>\n",
       "    <tr>\n",
       "      <th>7</th>\n",
       "      <td>Germany</td>\n",
       "      <td>Italy</td>\n",
       "      <td>14</td>\n",
       "    </tr>\n",
       "    <tr>\n",
       "      <th>8</th>\n",
       "      <td>Spain</td>\n",
       "      <td>the United Kingdom</td>\n",
       "      <td>2</td>\n",
       "    </tr>\n",
       "    <tr>\n",
       "      <th>9</th>\n",
       "      <td>France</td>\n",
       "      <td>the United Kingdom</td>\n",
       "      <td>6</td>\n",
       "    </tr>\n",
       "  </tbody>\n",
       "</table>\n",
       "</div>"
      ],
      "text/plain": [
       "           source              target  value\n",
       "0         Germany              Russia      9\n",
       "1         Austria             Germany     10\n",
       "2         Austria              Russia      5\n",
       "3         Austria             Hungary      6\n",
       "4         Germany             Hungary      9\n",
       "5         Germany          Yugoslavia      4\n",
       "6  Czechoslovakia          Yugoslavia     12\n",
       "7         Germany               Italy     14\n",
       "8           Spain  the United Kingdom      2\n",
       "9          France  the United Kingdom      6"
      ]
     },
     "execution_count": 29,
     "metadata": {},
     "output_type": "execute_result"
    }
   ],
   "source": [
    "# Summarize the interactions by giving a value for every interaction captured, then group the interactions\n",
    "relationship_df[\"value\"] = 1\n",
    "relationship_df_grouped = relationship_df.groupby([\"source\",\"target\"], sort=False, as_index=False).sum()\n",
    "\n",
    "# Check the output\n",
    "relationship_df_grouped.head(10)"
   ]
  },
  {
   "cell_type": "markdown",
   "id": "a34c34f4-4b36-48cf-95f0-46512ce6a700",
   "metadata": {},
   "source": [
    "### 7. Export the Data<a class=\"anchor\" id=\"export-data\"></a>"
   ]
  },
  {
   "cell_type": "code",
   "execution_count": 31,
   "id": "4c201e3d-23f2-4e2b-bb92-4ff52cd86549",
   "metadata": {
    "tags": []
   },
   "outputs": [],
   "source": [
    "# Save the dataframe as a csv file\n",
    "relationship_df_grouped.to_csv(os.path.join(path2, 'country_relationships.csv'))"
   ]
  },
  {
   "cell_type": "code",
   "execution_count": null,
   "id": "7c6456b5-8688-4b96-afb1-02670aa39e28",
   "metadata": {},
   "outputs": [],
   "source": []
  }
 ],
 "metadata": {
  "kernelspec": {
   "display_name": "Python [conda env:20th_century]",
   "language": "python",
   "name": "conda-env-20th_century-py"
  },
  "language_info": {
   "codemirror_mode": {
    "name": "ipython",
    "version": 3
   },
   "file_extension": ".py",
   "mimetype": "text/x-python",
   "name": "python",
   "nbconvert_exporter": "python",
   "pygments_lexer": "ipython3",
   "version": "3.12.4"
  }
 },
 "nbformat": 4,
 "nbformat_minor": 5
}
