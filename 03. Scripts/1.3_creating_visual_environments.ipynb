{
 "cells": [
  {
   "cell_type": "markdown",
   "id": "49d9cc0d-953d-407a-93bf-8411640e0325",
   "metadata": {},
   "source": [
    "# 1.3 Creating Virtual Environments"
   ]
  },
  {
   "cell_type": "markdown",
   "id": "c155a0dc-d7ef-4c85-acc0-2d6c2a61c3cb",
   "metadata": {},
   "source": [
    "## This script contains the following:\n",
    "#### [1. Import Libraries](#import-libraries)\n",
    "#### [2. Create a Pokemon Dataframe](#pokemon-dataframe)\n",
    "#### [3. Execute Mathematical Procedure Using Lambda](#math)\n",
    "#### [3. Create Flag Column Using Lambda](#flag)"
   ]
  },
  {
   "cell_type": "markdown",
   "id": "085b7252-fe53-4d2c-9e45-bfd4b0275bf3",
   "metadata": {
    "tags": []
   },
   "source": [
    "### 1. Import Libraries<a class=\"anchor\" id=\"import-libraries\"></a>"
   ]
  },
  {
   "cell_type": "code",
   "execution_count": 4,
   "id": "548b0233-9176-4689-b42d-405fc8a119a5",
   "metadata": {
    "tags": []
   },
   "outputs": [],
   "source": [
    "import pandas as pd\n",
    "import numpy as np"
   ]
  },
  {
   "cell_type": "markdown",
   "id": "36fee0e0-cfa2-44b3-800e-9fd3cccafec9",
   "metadata": {},
   "source": [
    "### 2. Create a Pokemon Dataframe<a class=\"anchor\" id=\"pokemon-dataframe\"></a>"
   ]
  },
  {
   "cell_type": "code",
   "execution_count": 6,
   "id": "413fefb8-4f8d-46be-850a-268c02f82a29",
   "metadata": {
    "tags": []
   },
   "outputs": [
    {
     "data": {
      "text/html": [
       "<div>\n",
       "<style scoped>\n",
       "    .dataframe tbody tr th:only-of-type {\n",
       "        vertical-align: middle;\n",
       "    }\n",
       "\n",
       "    .dataframe tbody tr th {\n",
       "        vertical-align: top;\n",
       "    }\n",
       "\n",
       "    .dataframe thead th {\n",
       "        text-align: right;\n",
       "    }\n",
       "</style>\n",
       "<table border=\"1\" class=\"dataframe\">\n",
       "  <thead>\n",
       "    <tr style=\"text-align: right;\">\n",
       "      <th></th>\n",
       "      <th>Trainer</th>\n",
       "      <th>Hometown</th>\n",
       "      <th>Starter Pokemon</th>\n",
       "      <th>Number of Pokemon Registered</th>\n",
       "    </tr>\n",
       "  </thead>\n",
       "  <tbody>\n",
       "    <tr>\n",
       "      <th>0</th>\n",
       "      <td>Ash</td>\n",
       "      <td>Pallet Town</td>\n",
       "      <td>Pikachu</td>\n",
       "      <td>18</td>\n",
       "    </tr>\n",
       "    <tr>\n",
       "      <th>1</th>\n",
       "      <td>Gary</td>\n",
       "      <td>Pallet Town</td>\n",
       "      <td>Squirtle</td>\n",
       "      <td>95</td>\n",
       "    </tr>\n",
       "    <tr>\n",
       "      <th>2</th>\n",
       "      <td>Bill</td>\n",
       "      <td>Lavender Town</td>\n",
       "      <td>Clefairy</td>\n",
       "      <td>146</td>\n",
       "    </tr>\n",
       "    <tr>\n",
       "      <th>3</th>\n",
       "      <td>Misty</td>\n",
       "      <td>Cerulean City</td>\n",
       "      <td>Staryu</td>\n",
       "      <td>12</td>\n",
       "    </tr>\n",
       "  </tbody>\n",
       "</table>\n",
       "</div>"
      ],
      "text/plain": [
       "  Trainer       Hometown Starter Pokemon  Number of Pokemon Registered\n",
       "0     Ash    Pallet Town         Pikachu                            18\n",
       "1    Gary    Pallet Town        Squirtle                            95\n",
       "2    Bill  Lavender Town        Clefairy                           146\n",
       "3   Misty  Cerulean City          Staryu                            12"
      ]
     },
     "execution_count": 6,
     "metadata": {},
     "output_type": "execute_result"
    }
   ],
   "source": [
    "# Create data for 4 Pokemon trainers\n",
    "data = pd.DataFrame({'Trainer': ['Ash', 'Gary', 'Bill', 'Misty'],\n",
    "                     'Hometown': ['Pallet Town', 'Pallet Town', 'Lavender Town', 'Cerulean City'],\n",
    "                     'Starter Pokemon': ['Pikachu', 'Squirtle', 'Clefairy', 'Staryu'],\n",
    "                     'Number of Pokemon Registered': [18, 95, 146, 12]})\n",
    "\n",
    "# Check the output\n",
    "data"
   ]
  },
  {
   "cell_type": "markdown",
   "id": "7c21e891-108e-42f5-8ab0-711e64f1874e",
   "metadata": {},
   "source": [
    "### 3. Execute Mathematical Procedure Using Lambda<a class=\"anchor\" id=\"math\"></a>"
   ]
  },
  {
   "cell_type": "code",
   "execution_count": 8,
   "id": "6193fe8f-036f-4cbe-8dc0-a96de53bd78a",
   "metadata": {
    "tags": []
   },
   "outputs": [
    {
     "data": {
      "text/html": [
       "<div>\n",
       "<style scoped>\n",
       "    .dataframe tbody tr th:only-of-type {\n",
       "        vertical-align: middle;\n",
       "    }\n",
       "\n",
       "    .dataframe tbody tr th {\n",
       "        vertical-align: top;\n",
       "    }\n",
       "\n",
       "    .dataframe thead th {\n",
       "        text-align: right;\n",
       "    }\n",
       "</style>\n",
       "<table border=\"1\" class=\"dataframe\">\n",
       "  <thead>\n",
       "    <tr style=\"text-align: right;\">\n",
       "      <th></th>\n",
       "      <th>Trainer</th>\n",
       "      <th>Hometown</th>\n",
       "      <th>Starter Pokemon</th>\n",
       "      <th>Number of Pokemon Registered</th>\n",
       "      <th>To Complete Pokedex</th>\n",
       "    </tr>\n",
       "  </thead>\n",
       "  <tbody>\n",
       "    <tr>\n",
       "      <th>0</th>\n",
       "      <td>Ash</td>\n",
       "      <td>Pallet Town</td>\n",
       "      <td>Pikachu</td>\n",
       "      <td>18</td>\n",
       "      <td>133</td>\n",
       "    </tr>\n",
       "    <tr>\n",
       "      <th>1</th>\n",
       "      <td>Gary</td>\n",
       "      <td>Pallet Town</td>\n",
       "      <td>Squirtle</td>\n",
       "      <td>95</td>\n",
       "      <td>56</td>\n",
       "    </tr>\n",
       "    <tr>\n",
       "      <th>2</th>\n",
       "      <td>Bill</td>\n",
       "      <td>Lavender Town</td>\n",
       "      <td>Clefairy</td>\n",
       "      <td>146</td>\n",
       "      <td>5</td>\n",
       "    </tr>\n",
       "    <tr>\n",
       "      <th>3</th>\n",
       "      <td>Misty</td>\n",
       "      <td>Cerulean City</td>\n",
       "      <td>Staryu</td>\n",
       "      <td>12</td>\n",
       "      <td>139</td>\n",
       "    </tr>\n",
       "  </tbody>\n",
       "</table>\n",
       "</div>"
      ],
      "text/plain": [
       "  Trainer       Hometown Starter Pokemon  Number of Pokemon Registered  \\\n",
       "0     Ash    Pallet Town         Pikachu                            18   \n",
       "1    Gary    Pallet Town        Squirtle                            95   \n",
       "2    Bill  Lavender Town        Clefairy                           146   \n",
       "3   Misty  Cerulean City          Staryu                            12   \n",
       "\n",
       "   To Complete Pokedex  \n",
       "0                  133  \n",
       "1                   56  \n",
       "2                    5  \n",
       "3                  139  "
      ]
     },
     "execution_count": 8,
     "metadata": {},
     "output_type": "execute_result"
    }
   ],
   "source": [
    "# Calculate how many more Pokemon each trainer needs catch to complete their Pokedex\n",
    "data['To Complete Pokedex'] = data['Number of Pokemon Registered'].apply(lambda x: 151 - x)\n",
    "\n",
    "#Check the output\n",
    "data"
   ]
  },
  {
   "cell_type": "markdown",
   "id": "0f71e6db-c482-4594-98c6-3aa583998cbb",
   "metadata": {},
   "source": [
    "### 4. Create Flag Column Using Lambda<a class=\"anchor\" id=\"flag\"></a>"
   ]
  },
  {
   "cell_type": "code",
   "execution_count": 10,
   "id": "7ba90607-da13-4eab-bb02-9aa4cd4a4048",
   "metadata": {
    "tags": []
   },
   "outputs": [
    {
     "data": {
      "text/html": [
       "<div>\n",
       "<style scoped>\n",
       "    .dataframe tbody tr th:only-of-type {\n",
       "        vertical-align: middle;\n",
       "    }\n",
       "\n",
       "    .dataframe tbody tr th {\n",
       "        vertical-align: top;\n",
       "    }\n",
       "\n",
       "    .dataframe thead th {\n",
       "        text-align: right;\n",
       "    }\n",
       "</style>\n",
       "<table border=\"1\" class=\"dataframe\">\n",
       "  <thead>\n",
       "    <tr style=\"text-align: right;\">\n",
       "      <th></th>\n",
       "      <th>Trainer</th>\n",
       "      <th>Hometown</th>\n",
       "      <th>Starter Pokemon</th>\n",
       "      <th>Number of Pokemon Registered</th>\n",
       "      <th>To Complete Pokedex</th>\n",
       "      <th>Nearest Gym</th>\n",
       "    </tr>\n",
       "  </thead>\n",
       "  <tbody>\n",
       "    <tr>\n",
       "      <th>0</th>\n",
       "      <td>Ash</td>\n",
       "      <td>Pallet Town</td>\n",
       "      <td>Pikachu</td>\n",
       "      <td>18</td>\n",
       "      <td>133</td>\n",
       "      <td>Viridian City</td>\n",
       "    </tr>\n",
       "    <tr>\n",
       "      <th>1</th>\n",
       "      <td>Gary</td>\n",
       "      <td>Pallet Town</td>\n",
       "      <td>Squirtle</td>\n",
       "      <td>95</td>\n",
       "      <td>56</td>\n",
       "      <td>Viridian City</td>\n",
       "    </tr>\n",
       "    <tr>\n",
       "      <th>2</th>\n",
       "      <td>Bill</td>\n",
       "      <td>Lavender Town</td>\n",
       "      <td>Clefairy</td>\n",
       "      <td>146</td>\n",
       "      <td>5</td>\n",
       "      <td>Saffron City</td>\n",
       "    </tr>\n",
       "    <tr>\n",
       "      <th>3</th>\n",
       "      <td>Misty</td>\n",
       "      <td>Cerulean City</td>\n",
       "      <td>Staryu</td>\n",
       "      <td>12</td>\n",
       "      <td>139</td>\n",
       "      <td>Cerulean City</td>\n",
       "    </tr>\n",
       "  </tbody>\n",
       "</table>\n",
       "</div>"
      ],
      "text/plain": [
       "  Trainer       Hometown Starter Pokemon  Number of Pokemon Registered  \\\n",
       "0     Ash    Pallet Town         Pikachu                            18   \n",
       "1    Gary    Pallet Town        Squirtle                            95   \n",
       "2    Bill  Lavender Town        Clefairy                           146   \n",
       "3   Misty  Cerulean City          Staryu                            12   \n",
       "\n",
       "   To Complete Pokedex    Nearest Gym  \n",
       "0                  133  Viridian City  \n",
       "1                   56  Viridian City  \n",
       "2                    5   Saffron City  \n",
       "3                  139  Cerulean City  "
      ]
     },
     "execution_count": 10,
     "metadata": {},
     "output_type": "execute_result"
    }
   ],
   "source": [
    "# List all cities in the region to their nearest gym\n",
    "near_Pewter = ['Pewter City']\n",
    "near_Cerulean = ['Cerulean City']\n",
    "near_Vermillion = ['Vermillion City']\n",
    "near_Celadon = ['Celadon City']\n",
    "near_Fuchsia = ['Fuchsia City']\n",
    "near_Saffron = ['Lavender Town', 'Saffron City']\n",
    "near_Cinnabar = ['Cinnabar Island']\n",
    "near_Viridian = ['Pallet Town', 'Viridian City']\n",
    "\n",
    "# Create a flag to determine which gym city is nearest to a trainers hometown by applying a lambda function\n",
    "data['Nearest Gym'] = data['Hometown'].apply(lambda x: 'Pewter City' if x in near_Pewter\n",
    "                                                        else 'Cerulean City' if x in near_Cerulean\n",
    "                                                        else 'Vermillion City' if x in near_Vermillion\n",
    "                                                        else 'Celadon City' if x in near_Celadon\n",
    "                                                        else 'Fuchsia City' if x in near_Fuchsia\n",
    "                                                        else 'Saffron City' if x in near_Saffron\n",
    "                                                        else 'Cinnabar Island' if x in near_Cinnabar\n",
    "                                                        else 'Viridian City')\n",
    "\n",
    "# Knowing the nearest gym city may help predict the route each trainer may take on their journey\n",
    "\n",
    "# Check the output\n",
    "data"
   ]
  },
  {
   "cell_type": "code",
   "execution_count": null,
   "id": "a4147026-4987-4c90-874b-ed7d033554b5",
   "metadata": {},
   "outputs": [],
   "source": []
  }
 ],
 "metadata": {
  "kernelspec": {
   "display_name": "Python [conda env:base] *",
   "language": "python",
   "name": "conda-base-py"
  },
  "language_info": {
   "codemirror_mode": {
    "name": "ipython",
    "version": 3
   },
   "file_extension": ".py",
   "mimetype": "text/x-python",
   "name": "python",
   "nbconvert_exporter": "python",
   "pygments_lexer": "ipython3",
   "version": "3.11.8"
  }
 },
 "nbformat": 4,
 "nbformat_minor": 5
}
