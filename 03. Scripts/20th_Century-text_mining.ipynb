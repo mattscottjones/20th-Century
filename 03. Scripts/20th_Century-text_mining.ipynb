{
 "cells": [
  {
   "cell_type": "markdown",
   "id": "de3cc239-1975-4faf-85ca-f6d12114aed8",
   "metadata": {},
   "source": [
    "# 1.5 Text Mining"
   ]
  },
  {
   "cell_type": "markdown",
   "id": "7c54996e-74a1-45ab-85d3-c0df4bc3374c",
   "metadata": {},
   "source": [
    "## This script contains the following:\n",
    "#### 1. Import Libraries\n",
    "#### 2. Import Data\n",
    "#### 3. Tokenization with NLTK\n",
    "#### 4. Filter Stop Words\n",
    "    First filtering\n",
    "    Second filtering (defining additional stop words)\n",
    "    Observations\n",
    "#### 5. Create Tag Lists with TextBlob\n",
    "#### 6. Top POS Labels\n",
    "    Observations\n",
    "#### 7. Country Mentions Frequency\n",
    "    Observations\n",
    "#### 8. Sentiment Analysis\n",
    "    Expectations\n",
    "    Observations"
   ]
  },
  {
   "cell_type": "markdown",
   "id": "41d686ad-125e-44f4-b75c-547091395b49",
   "metadata": {},
   "source": [
    "### 1. Import Libraries"
   ]
  },
  {
   "cell_type": "code",
   "execution_count": 5,
   "id": "6ce41299-dd9e-4ed5-b20e-a29c6503a2d6",
   "metadata": {
    "tags": []
   },
   "outputs": [
    {
     "name": "stderr",
     "output_type": "stream",
     "text": [
      "[nltk_data] Downloading package stopwords to\n",
      "[nltk_data]     /Users/matthewjones/nltk_data...\n",
      "[nltk_data]   Package stopwords is already up-to-date!\n",
      "[nltk_data] Downloading package punkt to\n",
      "[nltk_data]     /Users/matthewjones/nltk_data...\n",
      "[nltk_data]   Package punkt is already up-to-date!\n",
      "[nltk_data] Downloading package punkt_tab to\n",
      "[nltk_data]     /Users/matthewjones/nltk_data...\n",
      "[nltk_data]   Package punkt_tab is already up-to-date!\n",
      "[nltk_data] Downloading package averaged_perceptron_tagger to\n",
      "[nltk_data]     /Users/matthewjones/nltk_data...\n",
      "[nltk_data]   Package averaged_perceptron_tagger is already up-to-\n",
      "[nltk_data]       date!\n",
      "[nltk_data] Downloading package averaged_perceptron_tagger_eng to\n",
      "[nltk_data]     /Users/matthewjones/nltk_data...\n",
      "[nltk_data]   Package averaged_perceptron_tagger_eng is already up-to-\n",
      "[nltk_data]       date!\n"
     ]
    }
   ],
   "source": [
    "# Importing libraries\n",
    "from textblob import TextBlob \n",
    "import pandas as pd\n",
    "import seaborn as sns\n",
    "import matplotlib.pyplot as plt\n",
    "import matplotlib\n",
    "import nltk\n",
    "import re\n",
    "nltk.download('stopwords')\n",
    "nltk.download('punkt')\n",
    "nltk.download('punkt_tab')\n",
    "nltk.download('averaged_perceptron_tagger')\n",
    "nltk.download('averaged_perceptron_tagger_eng')\n",
    "from collections import Counter\n",
    "sns.set()"
   ]
  },
  {
   "cell_type": "markdown",
   "id": "549e9728-cab9-4ad2-b1de-84582089144e",
   "metadata": {},
   "source": [
    "### 2. Import Data"
   ]
  },
  {
   "cell_type": "code",
   "execution_count": 7,
   "id": "325dbb71-cb72-4dd8-9790-4f6fa86c0f5d",
   "metadata": {
    "tags": []
   },
   "outputs": [],
   "source": [
    "# Open the txt file\n",
    "import os\n",
    "\n",
    "path = os.path.join(os.path.dirname('/Users/matthewjones/Documents/CareerFoundry/Data Visualization with Python/Achievement 1/20th-Century/02. Data/'), '20th Century Events.txt')\n",
    "\n",
    "myfile = open(path, 'r', encoding='utf-8') "
   ]
  },
  {
   "cell_type": "code",
   "execution_count": 8,
   "id": "f3021413-a7b4-4136-b2ba-9f02b139b589",
   "metadata": {
    "tags": []
   },
   "outputs": [],
   "source": [
    "# Import and read the txt file\n",
    "import os\n",
    "\n",
    "with open(path, 'r', errors='ignore') as file:\n",
    "    article = file.read().replace('\\n', '')"
   ]
  },
  {
   "cell_type": "markdown",
   "id": "6f06b283-5fee-4895-8f0f-92fa0588360e",
   "metadata": {},
   "source": [
    "### 3. Tokenization"
   ]
  },
  {
   "cell_type": "markdown",
   "id": "e179fcfc-8e26-4441-8727-219d53577dda",
   "metadata": {},
   "source": [
    "Turning the full article into a series of words or individual portions to be analyzed"
   ]
  },
  {
   "cell_type": "code",
   "execution_count": 11,
   "id": "4513208f-5d84-46b6-b4ed-ebd917cb47ec",
   "metadata": {
    "tags": []
   },
   "outputs": [],
   "source": [
    "# Use NLTK to tokenize the txt file\n",
    "from nltk.tokenize import word_tokenize\n",
    "tokenized_word = word_tokenize(article)"
   ]
  },
  {
   "cell_type": "code",
   "execution_count": 12,
   "id": "79598379-e016-4c83-a560-3665d837ef8d",
   "metadata": {
    "tags": []
   },
   "outputs": [],
   "source": [
    "# Create frequency distribution\n",
    "from nltk.probability import FreqDist\n",
    "dist_words = FreqDist(tokenized_word)"
   ]
  },
  {
   "cell_type": "code",
   "execution_count": 13,
   "id": "857ea445-6047-4b29-aa3d-90338b61ce3b",
   "metadata": {
    "tags": []
   },
   "outputs": [
    {
     "data": {
      "text/plain": [
       "[('.', 1277),\n",
       " ('the', 1095),\n",
       " (',', 989),\n",
       " ('of', 604),\n",
       " ('and', 397),\n",
       " ('to', 326),\n",
       " ('The', 302),\n",
       " ('[', 302),\n",
       " (']', 302),\n",
       " ('in', 290)]"
      ]
     },
     "execution_count": 13,
     "metadata": {},
     "output_type": "execute_result"
    }
   ],
   "source": [
    "# Display the most common 10 tokens\n",
    "dist_words.most_common(10)"
   ]
  },
  {
   "cell_type": "code",
   "execution_count": 14,
   "id": "ed83d241-bd92-4703-8f60-f7e392e8f8e5",
   "metadata": {
    "tags": []
   },
   "outputs": [],
   "source": [
    "# Create a dataframe from the list\n",
    "df_base_dist = pd.DataFrame(dist_words.most_common(10))\n",
    "df_base_dist.columns = ['Words', \"Frequency\"]"
   ]
  },
  {
   "cell_type": "code",
   "execution_count": 15,
   "id": "410d3a03-6306-4866-998c-70b342f4949d",
   "metadata": {
    "tags": []
   },
   "outputs": [
    {
     "data": {
      "text/plain": [
       "Text(0, 0.5, 'Frequency')"
      ]
     },
     "execution_count": 15,
     "metadata": {},
     "output_type": "execute_result"
    },
    {
     "data": {
      "image/png": "[encoded data removed]",
      "text/plain": [
       "<Figure size 1000x600 with 1 Axes>"
      ]
     },
     "metadata": {},
     "output_type": "display_data"
    }
   ],
   "source": [
    "# Frequency Distribution Bar Plot\n",
    "base_dist_fig = plt.figure(figsize = (10, 6))\n",
    "sns.barplot(data = df_base_dist, x = 'Words', y = 'Frequency', color = '#cb416b')\n",
    "\n",
    "# Formatting for title and axes\n",
    "plt.title('')\n",
    "plt.xticks(rotation = 30)\n",
    "plt.xlabel('Top Tokens')\n",
    "plt.ylabel('Frequency')"
   ]
  },
  {
   "cell_type": "markdown",
   "id": "475d6605-b968-4eff-9fbd-19bd10a2d64e",
   "metadata": {},
   "source": [
    "### 4. Filter Stop Words"
   ]
  },
  {
   "cell_type": "markdown",
   "id": "26e866ad-3c18-48e8-8bf3-306b38a23328",
   "metadata": {},
   "source": [
    "Removing from consideration words and punctuation that do not yield meaningful results"
   ]
  },
  {
   "cell_type": "code",
   "execution_count": 18,
   "id": "ad02e13a-9e1f-47e6-8e46-fcf86e7fb8e6",
   "metadata": {
    "tags": []
   },
   "outputs": [],
   "source": [
    "# Import the stopwords module and create a set\n",
    "from nltk.corpus import stopwords\n",
    "stop_words = set(stopwords.words(\"english\"))"
   ]
  },
  {
   "cell_type": "markdown",
   "id": "a915a7ae-b93f-4eec-9108-ac13918edac5",
   "metadata": {},
   "source": [
    "### First filtering"
   ]
  },
  {
   "cell_type": "code",
   "execution_count": 20,
   "id": "a572f608-d64c-457f-a476-cb0ffce42f64",
   "metadata": {
    "tags": []
   },
   "outputs": [],
   "source": [
    "# Remove stopwords from set\n",
    "filtered_words = [] # creates an empty list\n",
    "for word in tokenized_word:\n",
    "    if word not in stop_words:\n",
    "        filtered_words.append(word)"
   ]
  },
  {
   "cell_type": "code",
   "execution_count": 42,
   "id": "0ae81bfc-623b-487a-9121-198d77284471",
   "metadata": {
    "tags": []
   },
   "outputs": [],
   "source": [
    "# Substitute all punctuations marks with a space \n",
    "sans_punc = re.sub(\"[^a-zA-Z]\",  # Search for all non-letters\n",
    "                          \" \",   # Replace all non-letters with spaces\n",
    "                          str(filtered_words))"
   ]
  },
  {
   "cell_type": "code",
   "execution_count": 23,
   "id": "63f5ebd1-1179-4968-9809-c2dc355e6f18",
   "metadata": {
    "tags": []
   },
   "outputs": [
    {
     "ename": "NameError",
     "evalue": "name 'sans_punc' is not defined",
     "output_type": "error",
     "traceback": [
      "\u001b[0;31m---------------------------------------------------------------------------\u001b[0m",
      "\u001b[0;31mNameError\u001b[0m                                 Traceback (most recent call last)",
      "Cell \u001b[0;32mIn[23], line 2\u001b[0m\n\u001b[1;32m      1\u001b[0m \u001b[38;5;66;03m# Word tokenization\u001b[39;00m\n\u001b[0;32m----> 2\u001b[0m tokenized_filtered \u001b[38;5;241m=\u001b[39m word_tokenize(sans_punc)\n",
      "\u001b[0;31mNameError\u001b[0m: name 'sans_punc' is not defined"
     ]
    }
   ],
   "source": [
    "# Word tokenization\n",
    "tokenized_filtered = word_tokenize(sans_punc)"
   ]
  },
  {
   "cell_type": "code",
   "execution_count": null,
   "id": "279ff77f-cc96-4a2c-9dda-7288c44c4485",
   "metadata": {
    "tags": []
   },
   "outputs": [],
   "source": [
    "# Create a new FreqDist of the tokenized words\n",
    "tokenized_filtered_dist = FreqDist(tokenized_filtered)\n",
    "df_filtered_dist = pd.Series(tokenized_filtered_dist).to_frame().reset_index()\n",
    "df_filtered_dist.columns = ['Words', 'Frequency']\n",
    "df_filtered_dist = df_filtered_dist.sort_values(by = ['Frequency'], ascending = False)\n",
    "\n",
    "# Check the output\n",
    "df_filtered_dist.head(20)"
   ]
  },
  {
   "cell_type": "code",
   "execution_count": null,
   "id": "3b38cc89-d3de-4d93-8822-d37dfe03ae9a",
   "metadata": {
    "tags": []
   },
   "outputs": [],
   "source": [
    "# Frequency Distribution Bar Plot\n",
    "filtered_fig = plt.figure(figsize = (10,6))\n",
    "sns.barplot(data = df_filtered_dist.head(10), x = 'Words', y = 'Frequency', color = '#cb416b')\n",
    "\n",
    "# Formatting for title and axes\n",
    "plt.title('')\n",
    "plt.xticks(rotation = 30)\n",
    "plt.xlabel('Top Words')\n",
    "plt.ylabel('Frequency')"
   ]
  },
  {
   "cell_type": "markdown",
   "id": "46cbbcf6-3e67-432e-85bc-14e2ce22696d",
   "metadata": {},
   "source": [
    "### Second Filtering (defining additional stop words)"
   ]
  },
  {
   "cell_type": "code",
   "execution_count": null,
   "id": "51a57f33-d7ba-4c07-a326-c31b7a1a2156",
   "metadata": {
    "tags": []
   },
   "outputs": [],
   "source": [
    "# Define new stop words\n",
    "new_stopwords = ['And', 'Then', 'n', 't', 's', 'S', 'The', 'www', 'th', 'ISBN']"
   ]
  },
  {
   "cell_type": "code",
   "execution_count": null,
   "id": "e4046d57-253e-471a-b15f-d3351fedf1f1",
   "metadata": {
    "tags": []
   },
   "outputs": [],
   "source": [
    "# Remove stopwords from set\n",
    "filtered_words_2 = [] # Creates an empty list\n",
    "for word in tokenized_filtered:\n",
    "    if word not in new_stopwords:\n",
    "        filtered_words_2.append(word)"
   ]
  },
  {
   "cell_type": "code",
   "execution_count": null,
   "id": "00b8e687-abd0-45ac-8919-94d0b61767f0",
   "metadata": {
    "tags": []
   },
   "outputs": [],
   "source": [
    "# Substitute all punctuations marks with a space \n",
    "sans_punc_2 = re.sub(\"[^a-zA-Z]\",  # Search for all non-letters\n",
    "                          \" \",   # Replace all non-letters with spaces\n",
    "                          str(filtered_words_2))"
   ]
  },
  {
   "cell_type": "code",
   "execution_count": null,
   "id": "560ffb77-d093-4616-8b4e-bcf0a6998dc1",
   "metadata": {
    "tags": []
   },
   "outputs": [],
   "source": [
    "# Word tokenization\n",
    "tokenized_filtered_2 = word_tokenize(sans_punc_2)"
   ]
  },
  {
   "cell_type": "code",
   "execution_count": null,
   "id": "8db9811a-20cf-498c-a9cc-873dc57d0075",
   "metadata": {
    "tags": []
   },
   "outputs": [],
   "source": [
    "# Create a new FreqDist\n",
    "tokenized_filtered_dist_2 = FreqDist(tokenized_filtered_2)\n",
    "df_filtered_dist_2 = pd.Series(tokenized_filtered_dist_2).to_frame().reset_index()\n",
    "df_filtered_dist_2.columns = ['Words', 'Frequency']\n",
    "df_filtered_dist_2 = df_filtered_dist_2.sort_values(by = ['Frequency'], ascending = False)\n",
    "\n",
    "# Check the output\n",
    "df_filtered_dist_2.head(20)"
   ]
  },
  {
   "cell_type": "code",
   "execution_count": null,
   "id": "a60c6287-e053-4d80-a467-409e11effb26",
   "metadata": {
    "tags": []
   },
   "outputs": [],
   "source": [
    "# Frequency Distribution Bar Plot\n",
    "filtered_fig_2 = plt.figure(figsize = (10,6))\n",
    "sns.barplot(data = df_filtered_dist_2.head(10), x = 'Words', y = 'Frequency', color = '#cb416b')\n",
    "\n",
    "# Formatting for title and axes\n",
    "plt.title('')\n",
    "plt.xticks(rotation = 30)\n",
    "plt.xlabel('Top Words')\n",
    "plt.ylabel('Frequency')"
   ]
  },
  {
   "cell_type": "markdown",
   "id": "e0e06b9d-a760-4b90-9ced-30ce536583c1",
   "metadata": {},
   "source": [
    "### Observations\n",
    "    1. The most common word was 'Retrieved' with a capital R. This likely means the word starts \n",
    "    sentences. I find it difficult to imagine many sentences that would start with 'Retrieved', \n",
    "    so this may be the go-to syntax for references. And it's likely there were 200+ references \n",
    "    for this article.\n",
    "    \n",
    "    2. All of the other top words refer to either the First or Second World War. These were \n",
    "    indeed significant events of the 20th century so this does make sense. These events involved \n",
    "    many countries, so I predict this means we'll see a dense network at these points.\n",
    "    \n",
    "    3. Both 'War' and 'war' are included as separate words, and 'World' and 'world' are as well. \n",
    "    This shows that it is important to distinguish between proper nouns and common nouns. This \n",
    "    frequency chart shows that World War I and World War II appeared more frequently than any other \n",
    "    war combined."
   ]
  },
  {
   "cell_type": "markdown",
   "id": "ac0f2963-75ba-44a4-b5df-783d3e5ddf4f",
   "metadata": {},
   "source": [
    "### 5. Create Tag Lists with TextBlob"
   ]
  },
  {
   "cell_type": "markdown",
   "id": "a962946d-a189-4254-8cd9-bc07bf60ef77",
   "metadata": {},
   "source": [
    "Figuring out the parts of speech of the remaining words"
   ]
  },
  {
   "cell_type": "code",
   "execution_count": null,
   "id": "6286e1d0-5f2c-484d-9f66-1b53c22b98d8",
   "metadata": {
    "tags": []
   },
   "outputs": [],
   "source": [
    "%%time \n",
    "#Measures the execution time of the following code\n",
    "\n",
    "\n",
    "# Create a TextBlob object from the filtered words list\n",
    "text = TextBlob(str(filtered_words_2))"
   ]
  },
  {
   "cell_type": "code",
   "execution_count": null,
   "id": "3a84667a-34d8-426e-a8d3-a15e0030db05",
   "metadata": {
    "tags": []
   },
   "outputs": [],
   "source": [
    "# Assign tags to each word\n",
    "tags_list = text.tags"
   ]
  },
  {
   "cell_type": "code",
   "execution_count": null,
   "id": "b470c764-5c1d-4038-914a-c0eef2d9ff5b",
   "metadata": {
    "tags": []
   },
   "outputs": [],
   "source": [
    "# Create a dataframe from the list\n",
    "df_text_tagged = pd.DataFrame(tags_list)\n",
    "df_text_tagged.columns = ['Words', \"Word type\"]\n",
    "\n",
    "# Check the output\n",
    "df_text_tagged.head(10)"
   ]
  },
  {
   "cell_type": "code",
   "execution_count": null,
   "id": "6347644d-c867-4305-9307-aa038d76a20d",
   "metadata": {
    "tags": []
   },
   "outputs": [],
   "source": [
    "# Group the words by their tag and count how many words were assigned to each tag\n",
    "df_POS_tags = df_text_tagged.groupby('Word type').count().reset_index().sort_values(by = ['Words'], ascending = False)\n",
    "df_top_POS_tags = df_POS_tags.head(10).reset_index().drop(['index'], axis = 1)\n",
    "\n",
    "# Check the output\n",
    "df_top_POS_tags"
   ]
  },
  {
   "cell_type": "code",
   "execution_count": null,
   "id": "d12aa4e4-7232-4768-9696-76d5f6fc4635",
   "metadata": {
    "tags": []
   },
   "outputs": [],
   "source": [
    "# Frequency Distribution Bar Plot\n",
    "filtered_fig_2 = plt.figure(figsize = (10,6))\n",
    "sns.barplot(data = df_top_POS_tags, x = 'Word type', y = 'Words', color = '#cb416b')\n",
    "\n",
    "# Formatting for title and axes\n",
    "plt.title('')\n",
    "plt.xticks(rotation = 30)\n",
    "plt.xlabel('Top POS Tags')\n",
    "plt.ylabel('Frequency')"
   ]
  },
  {
   "cell_type": "markdown",
   "id": "1b44f389-6324-4654-b4d0-fcfd07c11911",
   "metadata": {},
   "source": [
    "### 6. Top POS Labels"
   ]
  },
  {
   "cell_type": "markdown",
   "id": "0d13cb88-7f5f-4b77-8ee1-1575ead4467b",
   "metadata": {},
   "source": [
    "Discovering patterns in the words used in the article"
   ]
  },
  {
   "cell_type": "code",
   "execution_count": null,
   "id": "f21caf8f-00c2-4a90-a6eb-2f7bf7f2b746",
   "metadata": {
    "tags": []
   },
   "outputs": [],
   "source": [
    "# Create lists of POS labels for nouns, verbs, and adjectives\n",
    "nounPOS = ['NN', 'NNS', 'NNP', 'NNPS']\n",
    "verbPOS = ['VB', 'VBD', 'VBG', 'VBN', 'VBP', 'VBZ']\n",
    "adjectivePOS = ['JJ', 'JJR', 'JJS']\n",
    "\n",
    "# Subset dataframe to isolate words tagged as nouns, verbs, and adjectives\n",
    "df_nouns = df_text_tagged.loc[df_text_tagged['Word type'].isin(nounPOS)]\n",
    "df_verbs = df_text_tagged.loc[df_text_tagged['Word type'].isin(verbPOS)]\n",
    "df_adjectives = df_text_tagged.loc[df_text_tagged['Word type'].isin(adjectivePOS)]"
   ]
  },
  {
   "cell_type": "code",
   "execution_count": null,
   "id": "94c27774-e2ac-4bb8-a8c5-90b423f73ef9",
   "metadata": {
    "tags": []
   },
   "outputs": [],
   "source": [
    "# Group by the words in each dataframe, and count to see which words are most frequent in each grammar category\n",
    "df_noun_freq = df_nouns.groupby('Words').count().reset_index().sort_values(by = ['Word type'], ascending = False)\n",
    "df_verb_freq = df_verbs.groupby('Words').count().reset_index().sort_values(by = ['Word type'], ascending = False)\n",
    "df_adjective_freq = df_adjectives.groupby('Words').count().reset_index().sort_values(by = ['Word type'], ascending = False)"
   ]
  },
  {
   "cell_type": "code",
   "execution_count": null,
   "id": "9203c289-0c98-4eb7-8788-2ca1ec578e00",
   "metadata": {
    "tags": []
   },
   "outputs": [],
   "source": [
    "# Frequency Distribution Bar Plot (NOUN)\n",
    "noun_fig = plt.figure(figsize = (10, 6))\n",
    "sns.barplot(data = df_noun_freq.head(15), x = 'Words', y = 'Word type', color = '#cb416b')\n",
    "\n",
    "# Formatting for title and axes\n",
    "plt.title('Frequency of the Top Nouns', fontsize = 15)\n",
    "plt.xticks(rotation = 30)\n",
    "plt.xlabel('Top Nouns')\n",
    "plt.ylabel('Frequency')"
   ]
  },
  {
   "cell_type": "code",
   "execution_count": null,
   "id": "bddfeb8f-eb15-4383-88d7-f2171d6c94e8",
   "metadata": {
    "tags": []
   },
   "outputs": [],
   "source": [
    "# Frequency Distribution Bar Plot (VERB)\n",
    "verb_fig = plt.figure(figsize = (10, 6))\n",
    "sns.barplot(data = df_verb_freq.head(15), x = 'Words', y = 'Word type', color = '#cb416b')\n",
    "\n",
    "# Formatting for title and axes\n",
    "plt.title('Frequency of the Top Verbs', fontsize = 15)\n",
    "plt.xticks(rotation = 30)\n",
    "plt.xlabel('Top Verbs')\n",
    "plt.ylabel('Frequency')"
   ]
  },
  {
   "cell_type": "code",
   "execution_count": null,
   "id": "c2b76a7d-9f84-47ec-8fcf-027e97477efb",
   "metadata": {
    "tags": []
   },
   "outputs": [],
   "source": [
    "# Frequency Distribution Bar Plot (ADJECTIVE)\n",
    "adjective_fig = plt.figure(figsize = (10, 6))\n",
    "sns.barplot(data = df_adjective_freq.head(15), x = 'Words', y = 'Word type', color = '#cb416b')\n",
    "\n",
    "# Formatting for title and axes\n",
    "plt.title('Frequency of the Top Adjectives', fontsize = 15)\n",
    "plt.xticks(rotation = 30)\n",
    "plt.xlabel('Top Adjectives')\n",
    "plt.ylabel('Frequency')"
   ]
  },
  {
   "cell_type": "markdown",
   "id": "94d9a3e8-d9f4-4021-b004-8a91d9c66593",
   "metadata": {},
   "source": [
    "### Observations\n",
    "    These charts show that TextBlob's labeling is not 100% accurate. In the noun chart, words like 'first', 'in', and 'new' are included. These are not nouns, and it's curious why they were included. In the verb chart, words like 'United', 'States', and 'Allied' are included. It's understandable why they were labeled as verbs, but they are proper nouns in the context of this article. The word 'including' is also likely being used as a preposition in this article. In the adjective chart, the top words are demonyms that refer to individual countries. The word 'Interest' is also likely being used as a noun in this article.\n",
    "    \n",
    "    The other notable observation is that individual nouns are much more common than individual verbs or adjectives. For verbs, 'Retrieved' is a significant outlier. And most other verbs in the top 15 aren't mentioned more than 10 times. And these are the most common verbs. Adjectives follow the same pattern with 'Japanese' and 'American' being outliers."
   ]
  },
  {
   "cell_type": "markdown",
   "id": "376c3e39-4f46-4028-b56f-4f47e0d7ff51",
   "metadata": {},
   "source": [
    "### 7. Country Mentions Frequency"
   ]
  },
  {
   "cell_type": "markdown",
   "id": "6071c806-8697-4df9-aa2b-304968e25644",
   "metadata": {},
   "source": [
    "Using both the article and a list of countries to discover patterns in which countries are mentioned the most"
   ]
  },
  {
   "cell_type": "code",
   "execution_count": null,
   "id": "651acc61-bab6-4eca-9460-ff09976f9c83",
   "metadata": {
    "tags": []
   },
   "outputs": [],
   "source": [
    "# Join each element in the list into a single string separated by a space\n",
    "listToStr = ' '.join([str(elem) for elem in filtered_words_2])"
   ]
  },
  {
   "cell_type": "code",
   "execution_count": null,
   "id": "58f1bc46-493b-4143-8466-6e598ad6cd20",
   "metadata": {
    "tags": []
   },
   "outputs": [],
   "source": [
    "# Split the string into individual words at each space, and count the occurrences of each word\n",
    "all_counts = Counter(re.sub(r'\\W+', ' ', listToStr).split())"
   ]
  },
  {
   "cell_type": "code",
   "execution_count": null,
   "id": "4436d21f-286e-41a0-949c-ced24f34fa38",
   "metadata": {
    "tags": []
   },
   "outputs": [],
   "source": [
    "# Import the list of countries as a dataframe\n",
    "countries = pd.read_csv(\"countries_list_20th_century_1.5.csv\", index_col = 0)"
   ]
  },
  {
   "cell_type": "code",
   "execution_count": null,
   "id": "8a123420-3f6a-40af-bd7a-729eb358b75d",
   "metadata": {
    "tags": []
   },
   "outputs": [],
   "source": [
    "# Check the shape (209 countries)\n",
    "countries.shape"
   ]
  },
  {
   "cell_type": "code",
   "execution_count": null,
   "id": "f3a22939-6a86-49c0-bc52-95f881cef6d5",
   "metadata": {
    "tags": []
   },
   "outputs": [],
   "source": [
    "# Check the output\n",
    "countries.head()"
   ]
  },
  {
   "cell_type": "code",
   "execution_count": null,
   "id": "bd908e21-8304-4f28-91d8-f6f5567828a0",
   "metadata": {
    "tags": []
   },
   "outputs": [],
   "source": [
    "# Create aliases for countries with more than one word in their name\n",
    "# There wasn't a uniform way to isolate their alias, so I did not use a function for this task\n",
    "# Some countries were left untouched because they were not mentioned in the article\n",
    "\n",
    "countries['country_name'] = countries['country_name'].replace(\"  China, People's Republic of \", \"China\")\n",
    "countries['country_name'] = countries['country_name'].replace(\"   Micronesia, Federated States of \", \"Micronesia\")\n",
    "countries['country_name'] = countries['country_name'].replace(\"   New Zealand \", \"Zealand\")\n",
    "countries['country_name'] = countries['country_name'].replace(\"   North Macedonia \", \"Macedonia\")\n",
    "countries['country_name'] = countries['country_name'].replace(\"   Papua New Guinea \", \"Papua\")\n",
    "countries['country_name'] = countries['country_name'].replace(\"  Antigua and Barbuda \", \"Barbuda\")\n",
    "countries['country_name'] = countries['country_name'].replace(\" Bahamas, The \", \"Bahamas\")\n",
    "countries['country_name'] = countries['country_name'].replace(\"  Bosnia and Herzegovina \", \"Bosnia\")\n",
    "countries['country_name'] = countries['country_name'].replace(\"  Burkina Faso \", \"Faso\")\n",
    "countries['country_name'] = countries['country_name'].replace(\"  Cape Verde \", \"Verde\")\n",
    "countries['country_name'] = countries['country_name'].replace(\"  East Timor \", \"Timor\")\n",
    "countries['country_name'] = countries['country_name'].replace(\"  Costa Rica \", \"Rica\")\n",
    "countries['country_name'] = countries['country_name'].replace(\"   El Salvador \", \"Salvador\")\n",
    "countries['country_name'] = countries['country_name'].replace(\"   Gambia, The \", \"Gambia\")\n",
    "countries['country_name'] = countries['country_name'].replace(\"  Saint Kitts and Nevis \", \"Kitts\")\n",
    "countries['country_name'] = countries['country_name'].replace(\"   Saint Lucia \", \"Lucia\")\n",
    "countries['country_name'] = countries['country_name'].replace(\"   Saint Vincent and the Grenadines \", \"Grenadines\")\n",
    "countries['country_name'] = countries['country_name'].replace(\"   San Marino \", \"Marino\")\n",
    "countries['country_name'] = countries['country_name'].replace(\"   São Tomé and Príncipe \", \"Príncipe\")\n",
    "countries['country_name'] = countries['country_name'].replace(\"   Saudi Arabia \", \"Arabia\")\n",
    "countries['country_name'] = countries['country_name'].replace(\"   Sierra Leone \", \"Leone\")\n",
    "countries['country_name'] = countries['country_name'].replace(\"   São Tomé and Príncipe \", \"Príncipe\")\n",
    "countries['country_name'] = countries['country_name'].replace(\"   Solomon Islands \", \"Solomon\")\n",
    "countries['country_name'] = countries['country_name'].replace(\"   Sri Lanka \", \"Lanka\")\n",
    "countries['country_name'] = countries['country_name'].replace(\"   Trinidad and Tobago \", \"Trinidad\")\n",
    "countries['country_name'] = countries['country_name'].replace(\"   United Arab Emirates \", \"Emirates\")\n",
    "countries['country_name'] = countries['country_name'].replace(\"   United Kingdom \", \"Kingdom\")\n",
    "countries['country_name'] = countries['country_name'].replace(\"   United States \", \"States\")\n",
    "countries['country_name'] = countries['country_name'].replace(\"    Vatican City (Holy See) \", \"Vatican\")\n",
    "countries['country_name'] = countries['country_name'].replace(\"   Cook Islands \", \"Cook\")\n",
    "\n",
    "# I could not find a reasonable for some countries. For instance, South Africa: just using South would include \n",
    "# all other mentions of this word and not just the country, and just using Africa would include all other\n",
    "# mentions of the entire continent.\n",
    "\n",
    "# Other countries that fall in this dilemma: South Sudan, Democratic Republic of the Congo, Republic of the \n",
    "# Congo, Central African Republic, North Korea, South Korea, Equatorial Guinea, Marshall Islands, and Dominican Republic\n",
    "\n",
    "# The country Czechoslovakia ceased to exist during this century, but it was split up into the two countries\n",
    "# now known as Czech Republic and Slovakia. What would be the best way to assign mentions to these countries?"
   ]
  },
  {
   "cell_type": "code",
   "execution_count": null,
   "id": "99ea7c3b-ef1a-4beb-9cab-4f1787bfa572",
   "metadata": {
    "tags": []
   },
   "outputs": [],
   "source": [
    "# Convert the 'country_name' column into a list\n",
    "country_list = countries['country_name'].to_list()"
   ]
  },
  {
   "cell_type": "code",
   "execution_count": null,
   "id": "82347296-f5de-41f6-b852-de633b7299e4",
   "metadata": {
    "tags": []
   },
   "outputs": [],
   "source": [
    "cleaned_country_list = []\n",
    "\n",
    "for item in country_list:\n",
    "    cleaned_country_list.append(item.strip())\n",
    "    \n",
    "print (cleaned_country_list)"
   ]
  },
  {
   "cell_type": "code",
   "execution_count": null,
   "id": "ae481047-8769-4314-bb83-634051e4d32e",
   "metadata": {
    "tags": []
   },
   "outputs": [],
   "source": [
    "# Create a dictionary where for every country in 'country_list' we assign it the word occurrence \n",
    "# count from 'all_counts'\n",
    "dict_of_counts = {d : all_counts[d] for d in cleaned_country_list}"
   ]
  },
  {
   "cell_type": "code",
   "execution_count": null,
   "id": "a4fff701-c092-4c09-a365-2a7e05edd850",
   "metadata": {
    "tags": []
   },
   "outputs": [],
   "source": [
    "# Invert the dictionary and make it into a dataframe\n",
    "dct = {v:[k] for v,k in dict_of_counts.items()}  \n",
    "df_country_mentions = pd.DataFrame(dct)"
   ]
  },
  {
   "cell_type": "code",
   "execution_count": null,
   "id": "c1e05be0-b4d9-4cb5-b44f-816056067a2c",
   "metadata": {
    "tags": []
   },
   "outputs": [],
   "source": [
    "# Transpose the dataframe\n",
    "df_country_mentions = df_country_mentions.transpose().reset_index()"
   ]
  },
  {
   "cell_type": "code",
   "execution_count": null,
   "id": "1a2e0fab-fd20-4883-a880-6177bc122645",
   "metadata": {},
   "outputs": [],
   "source": [
    "# Rename the columns to be more intuitive\n",
    "df_country_mentions.rename(columns = {\"index\":\"Country\", 0:\"Times mentioned\"}, inplace = True)"
   ]
  },
  {
   "cell_type": "code",
   "execution_count": null,
   "id": "7f4b805c-2167-482b-a273-aedd6a69d55e",
   "metadata": {
    "tags": []
   },
   "outputs": [],
   "source": [
    "# Sort the dataframe by putting the most frequently mentioned countries at the top\n",
    "df_country_mentions = df_country_mentions.sort_values('Times mentioned', axis = 0, ascending = False)\n",
    "\n",
    "# Check the output\n",
    "df_country_mentions"
   ]
  },
  {
   "cell_type": "code",
   "execution_count": null,
   "id": "c21bec34-a8cc-4180-914f-a28aa6f5c71d",
   "metadata": {
    "tags": []
   },
   "outputs": [],
   "source": [
    "# Frequency Distribution Bar Plot\n",
    "country_mentions_freq = plt.figure(figsize = (10, 6))\n",
    "sns.barplot(data = df_country_mentions.head(15), x = 'Country', y = 'Times mentioned', color = '#cb416b')\n",
    "\n",
    "# Formatting for title and axes\n",
    "plt.title('Frequency of the Country Mentions', fontsize = 15)\n",
    "plt.xticks(rotation = 30)\n",
    "plt.xlabel('Top Countries')\n",
    "plt.ylabel('Frequency')"
   ]
  },
  {
   "cell_type": "markdown",
   "id": "ed671313-82e7-43eb-bc8c-c3d6c98f52f5",
   "metadata": {},
   "source": [
    "### Observations\n",
    "    Germany and Japan were the most mentioned countries in the article. This makes sense fiven the other results. Both of the World Wars were the most mentioned events, and Germany was involved with both of these wars. And the most common adjective was 'Japanese', so it makes sense that Japan was one of the most mentioned countries.\n",
    "    \n",
    "    The other most mentioned countries all made sense, however it seems the article has a strong Western bias. Half of the countries are in Europe. While they certainly were important in the 20th century, the article discounts the events and the impact of events happening elsewhere in the world. In 2024, we're seeing the ramifications of the conflicts in the Middle East. Yet, countries like Saudi Arabia and Palestine are not mentioned at all. And Egypt is only mentioned in passing (not in reference to the unrest in the Middle East). This is just one example of the events the article omitted. But it's important to recognize that if our resources only teach us about certain historical events, then it is natural for readers to deem those events as most important. So by omitting certain historical events, we are also weighing them as less important. And it's important to recognize who is making those decisions of which history is most important to remember."
   ]
  },
  {
   "cell_type": "markdown",
   "id": "4956f2f2-bf39-4266-a097-58ef3cfa3fb4",
   "metadata": {},
   "source": [
    "### 8. Sentiment Analysis"
   ]
  },
  {
   "cell_type": "markdown",
   "id": "903c91a3-c2b4-4130-a533-7651d1d571fb",
   "metadata": {
    "tags": []
   },
   "source": [
    "Identifying the underlying mood of the article"
   ]
  },
  {
   "cell_type": "markdown",
   "id": "e8f7e096-f14f-44fe-ad9a-a0594cceaee2",
   "metadata": {},
   "source": [
    "#### Expectations\n",
    "    One of the most common nouns from our analysis was 'war'. While I don't know how certain words \n",
    "    are rated on polarity, I would imagine 'war' has a negative polarity score. I would also \n",
    "    imagine that the article focuses on the conflicts between nations which could push the polarity \n",
    "    score to be negative overall.\n",
    "    \n",
    "    This article is fact-based. I expect the subjectivity of this article to be close to 0."
   ]
  },
  {
   "cell_type": "code",
   "execution_count": null,
   "id": "3eb1f6e0-5df4-4af3-b703-bc555b101af6",
   "metadata": {
    "tags": []
   },
   "outputs": [],
   "source": [
    "text_sent = TextBlob(str(filtered_words_2))\n",
    "print(text_sent.sentiment)"
   ]
  },
  {
   "cell_type": "markdown",
   "id": "7d89f8ce-f1a3-4c5a-a8e6-2f87a2e2321f",
   "metadata": {},
   "source": [
    "#### Observations\n",
    "    The polarity score is close to 0, meaning there is no significant difference between the \n",
    "    negativity and the positivity of the analysis. I would be curious to read the article to \n",
    "    see if this matches the content.\n",
    "    \n",
    "    The subjectivity score was 0.35, which is much more subjective than I imagined. The \n",
    "    subjectivity of Lewis Carroll's novel was only slightly higher (0.50) than this Wikipedia \n",
    "    article. Again, I would be curious to read the article to see if this matches the content. \n",
    "    However, because the content on Wikipedia articles is added by individual users, it would \n",
    "    be reasonable that those users may use more subjective language."
   ]
  },
  {
   "cell_type": "code",
   "execution_count": null,
   "id": "4cd3f624-6078-420e-a8aa-2902be073bc0",
   "metadata": {},
   "outputs": [],
   "source": []
  }
 ],
 "metadata": {
  "kernelspec": {
   "display_name": "Python [conda env:20th_century]",
   "language": "python",
   "name": "conda-env-20th_century-py"
  },
  "language_info": {
   "codemirror_mode": {
    "name": "ipython",
    "version": 3
   },
   "file_extension": ".py",
   "mimetype": "text/x-python",
   "name": "python",
   "nbconvert_exporter": "python",
   "pygments_lexer": "ipython3",
   "version": "3.12.4"
  }
 },
 "nbformat": 4,
 "nbformat_minor": 5
}
