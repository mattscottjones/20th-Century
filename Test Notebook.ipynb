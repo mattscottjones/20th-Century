{
 "cells": [
  {
   "cell_type": "markdown",
   "id": "adcd3c16-a71e-42b6-9c17-d8e09db31d66",
   "metadata": {},
   "source": [
    "# Test Notebook"
   ]
  },
  {
   "cell_type": "markdown",
   "id": "b053a373-3c35-453e-9f88-c00295277c80",
   "metadata": {},
   "source": [
    "This notebook was created to make sure I understand how to push changes from my local repository to the remote repository"
   ]
  },
  {
   "cell_type": "code",
   "execution_count": 3,
   "id": "65ab3e60-c984-4013-af17-09dae27f8aed",
   "metadata": {
    "tags": []
   },
   "outputs": [
    {
     "data": {
      "text/plain": [
       "2"
      ]
     },
     "execution_count": 3,
     "metadata": {},
     "output_type": "execute_result"
    }
   ],
   "source": [
    "1 + 1"
   ]
  },
  {
   "cell_type": "code",
   "execution_count": null,
   "id": "7bd7f9a4-01e3-4fab-9f53-950ea51a5e8c",
   "metadata": {},
   "outputs": [],
   "source": []
  }
 ],
 "metadata": {
  "kernelspec": {
   "display_name": "Python 3 (ipykernel)",
   "language": "python",
   "name": "python3"
  },
  "language_info": {
   "codemirror_mode": {
    "name": "ipython",
    "version": 3
   },
   "file_extension": ".py",
   "mimetype": "text/x-python",
   "name": "python",
   "nbconvert_exporter": "python",
   "pygments_lexer": "ipython3",
   "version": "3.11.8"
  }
 },
 "nbformat": 4,
 "nbformat_minor": 5
}
